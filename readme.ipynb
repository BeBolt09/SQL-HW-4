{
 "cells": [
  {
   "cell_type": "markdown",
   "metadata": {},
   "source": [
    "**Mock Car Dealership PostgresSQL Database.**<br>\n",
    "<br>\n",
    "I received an assignment from Coding Temple to create a simple database for a mock car dealership, using SQL and the PostgreSQL database system.\n",
    "<br>\n",
    "<br>\n",
    "\n",
    "<h3>1)ERD</h3>\n",
    "To make the Entity Relationship Diagram, I used <a href=\"https://lucid.app/\"><i>Lucid</i></a> charts :\n",
    "<br>\n",
    "<img src=\"Database ER diagram (crow's foot).png\">\n",
    "\n",
    "<h3>2)ElephantSQL</h3>\n",
    "I used ElephantSQL to create a new instance using Amazon's web services :\n",
    "<br>\n",
    "<img src=\"Screenshot 2023-12-14 at 10.38.56 AM.png\">\n",
    "\n",
    "<h3>3)Connecting Dbeaver to the Database</h3>\n",
    "Given the connection information, I was able to connect DBeaver software to my database.\n",
    "<br>\n",
    "<img src=\"Screenshot 2023-12-15 at 10.46.01 AM.png\">\n",
    "\n",
    "<h3>4)Creating Tables</h3>\n",
    "I then Created all tables using a new script, I made sure the tables were created in the right order so I could used Foreign Keys correctly. Check the repository to find the full .sql file.\n",
    "<img src=\"Screenshot 2023-12-15 at 10.50.23 AM.png\">\n",
    "I checked If all the tables got created properly afterwards by looking at the erd :\n",
    "<img src=\"Screenshot 2023-12-14 at 11.35.22 AM.png\">\n",
    "\n",
    "<h3>5)Populating the tables</h3>\n",
    "Each Table has at least 2 items. I wrote most of the inserts, I used RNDGEN to insert names and phone numbers :\n",
    "<img src=\"Screenshot 2023-12-15 at 11.03.42 AM.png\">\n",
    "<br>\n",
    "You can check out all the insert commands in the \"popuulatingTables.sql\" file.\n",
    "<br>\n",
    "I also used StoredFunctions to populate some of the tables:\n",
    "<img src=\"Screenshot 2023-12-15 at 11.08.19 AM.png\">\n",
    "\n"
   ]
  }
 ],
 "metadata": {
  "language_info": {
   "name": "python"
  }
 },
 "nbformat": 4,
 "nbformat_minor": 2
}
